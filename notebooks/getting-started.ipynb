{
 "cells": [
  {
   "cell_type": "markdown",
   "id": "smoking-bachelor",
   "metadata": {},
   "source": [
    "# Getting Started\n",
    "\n",
    "This netebook contains some minimal setup code to get started with the data analysis, including the installation of the required libraries and data loading fraom files."
   ]
  },
  {
   "cell_type": "markdown",
   "id": "digital-scientist",
   "metadata": {},
   "source": [
    "### Install some required libraries\n",
    "\n",
    "Depending on the system configuration it may be necessary to install more libraries."
   ]
  },
  {
   "cell_type": "code",
   "execution_count": null,
   "id": "tender-dayton",
   "metadata": {},
   "outputs": [],
   "source": [
    "# Install a pip package in the current Jupyter kernel\n",
    "import sys\n",
    "!{sys.executable} -m pip install graphviz\n",
    "!{sys.executable} -m pip install xgboost\n",
    "!{sys.executable} -m pip install imblearn\n",
    "!{sys.executable} -m pip install torch\n",
    "!{sys.executable} -m pip install typing-extensions==4.3.0\n",
    "!{sys.executable} -m pip install pandas==1.5.0"
   ]
  },
  {
   "cell_type": "markdown",
   "id": "bridal-mission",
   "metadata": {},
   "source": [
    "### Shared functions loading\n",
    "Load a library of shared functions that may be used for the analsys if the data. If any part of the loading fails, this may be fixed by installing more libraries in the cell above."
   ]
  },
  {
   "cell_type": "code",
   "execution_count": null,
   "id": "bearing-logic",
   "metadata": {},
   "outputs": [],
   "source": [
    "print(\"Loading shared function...\")\n",
    "%run shared_functions.py\n",
    "print(\"Done\")"
   ]
  },
  {
   "cell_type": "markdown",
   "id": "automotive-husband",
   "metadata": {},
   "source": [
    "### Load data\n",
    "Using the shared_functions.py library, load the input data into a Pandas dataframe "
   ]
  },
  {
   "cell_type": "code",
   "execution_count": 14,
   "id": "likely-alberta",
   "metadata": {},
   "outputs": [
    {
     "name": "stdout",
     "output_type": "stream",
     "text": [
      "Load  files...\n",
      "CPU times: user 40 ms, sys: 30.6 ms, total: 70.6 ms\n",
      "Wall time: 74.5 ms\n",
      "Done\n"
     ]
    }
   ],
   "source": [
    "# Load data from the 2018-07-25 to the 2018-08-14\n",
    "\n",
    "DIR_INPUT='../training-data/input' \n",
    "\n",
    "BEGIN_DATE = \"2018-07-25\"\n",
    "END_DATE = \"2018-08-14\"\n",
    "\n",
    "print(\"Load  files...\")\n",
    "%time transactions_df=read_from_files(DIR_INPUT, BEGIN_DATE, END_DATE)\n",
    "print(\"Done\")\n"
   ]
  },
  {
   "cell_type": "code",
   "execution_count": 15,
   "id": "clinical-digest",
   "metadata": {},
   "outputs": [
    {
     "data": {
      "text/plain": [
       "1409065"
      ]
     },
     "execution_count": 15,
     "metadata": {},
     "output_type": "execute_result"
    }
   ],
   "source": [
    "# Check the size\n",
    "transactions_df.size"
   ]
  },
  {
   "cell_type": "code",
   "execution_count": 16,
   "id": "controlled-liquid",
   "metadata": {},
   "outputs": [
    {
     "data": {
      "text/plain": [
       "pandas.core.frame.DataFrame"
      ]
     },
     "execution_count": 16,
     "metadata": {},
     "output_type": "execute_result"
    }
   ],
   "source": [
    "# It is a Pandas dataframe\n",
    "type(transactions_df)"
   ]
  }
 ],
 "metadata": {
  "kernelspec": {
   "display_name": "Python 3",
   "language": "python",
   "name": "python3"
  },
  "language_info": {
   "codemirror_mode": {
    "name": "ipython",
    "version": 3
   },
   "file_extension": ".py",
   "mimetype": "text/x-python",
   "name": "python",
   "nbconvert_exporter": "python",
   "pygments_lexer": "ipython3",
   "version": "3.8.8"
  }
 },
 "nbformat": 4,
 "nbformat_minor": 5
}
