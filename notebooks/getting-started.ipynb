{
 "cells": [
  {
   "cell_type": "markdown",
   "id": "smoking-bachelor",
   "metadata": {},
   "source": [
    "# Getting Started\n",
    "\n",
    "This netebook contains some minimal setup code to get started with the data analysis, including the installation of the required libraries and data loading fraom files."
   ]
  },
  {
   "cell_type": "markdown",
   "id": "digital-scientist",
   "metadata": {},
   "source": [
    "### Install some required libraries\n",
    "\n",
    "Depending on the system configuration it may be necessary to install more libraries."
   ]
  },
  {
   "cell_type": "markdown",
   "id": "bridal-mission",
   "metadata": {},
   "source": [
    "### Shared functions loading\n",
    "Load a library of shared functions that may be used for the analsys if the data. If any part of the loading fails, this may be fixed by installing more libraries in the cell above."
   ]
  },
  {
   "cell_type": "code",
   "execution_count": 1,
   "outputs": [],
   "source": [
    "import os\n",
    "import pandas as pd\n",
    "import numpy as np\n",
    "from sklearn.model_selection import train_test_split\n",
    "from sklearn.preprocessing import StandardScaler\n",
    "from sklearn.neighbors import KNeighborsClassifier\n",
    "from sklearn.metrics import accuracy_score"
   ],
   "metadata": {
    "collapsed": false,
    "ExecuteTime": {
     "end_time": "2023-10-19T20:01:39.836744100Z",
     "start_time": "2023-10-19T20:01:36.620575200Z"
    }
   },
   "id": "a1b1c3c055cf36b2"
  },
  {
   "cell_type": "code",
   "execution_count": 2,
   "outputs": [],
   "source": [
    "def read_transaction_data(DIR_INPUT, BEGIN_DATE, END_DATE):\n",
    "    \n",
    "    files = [os.path.join(DIR_INPUT, f) for f in os.listdir(DIR_INPUT) if f>=BEGIN_DATE+'.pkl' and f<=END_DATE+'.pkl']\n",
    "\n",
    "    frames = []\n",
    "    for f in files:\n",
    "        df = pd.read_pickle(f)\n",
    "        frames.append(df)\n",
    "        del df\n",
    "    df_final = pd.concat(frames)\n",
    "    \n",
    "    df_final=df_final.sort_values('TRANSACTION_ID')\n",
    "    df_final.reset_index(drop=True,inplace=True)\n",
    "    #  Note: -1 are missing values for realpi world data \n",
    "    df_final=df_final.replace([-1],0)\n",
    "    \n",
    "    #drop the TX_DATETIME column because ai model only works with numbers\n",
    "    return df_final"
   ],
   "metadata": {
    "collapsed": false,
    "ExecuteTime": {
     "end_time": "2023-10-19T20:01:39.863745400Z",
     "start_time": "2023-10-19T20:01:39.846065600Z"
    }
   },
   "id": "6d1420e2ce9eff43"
  },
  {
   "cell_type": "markdown",
   "id": "automotive-husband",
   "metadata": {},
   "source": [
    "### Load data\n",
    "Using the shared_functions.py library, load the input data into a Pandas dataframe "
   ]
  },
  {
   "cell_type": "code",
   "execution_count": 3,
   "id": "likely-alberta",
   "metadata": {
    "ExecuteTime": {
     "end_time": "2023-10-19T20:01:40.594544Z",
     "start_time": "2023-10-19T20:01:39.856584200Z"
    }
   },
   "outputs": [
    {
     "name": "stdout",
     "output_type": "stream",
     "text": [
      "Load  files...\n",
      "Done\n"
     ]
    }
   ],
   "source": [
    "# Load data from the 2018-07-25 to the 2018-08-14\n",
    "\n",
    "DIR_INPUT='../simulated-training-data-raw' \n",
    "\n",
    "BEGIN_DATE = \"2018-07-25\"\n",
    "END_DATE = \"2018-08-14\"\n",
    "\n",
    "print(\"Load  files...\")\n",
    "transactions_df=read_transaction_data(DIR_INPUT, BEGIN_DATE, END_DATE)\n",
    "print(\"Done\")\n"
   ]
  },
  {
   "cell_type": "code",
   "execution_count": 4,
   "outputs": [
    {
     "data": {
      "text/plain": "        TRANSACTION_ID         TX_DATETIME  CUSTOMER_ID  TERMINAL_ID  \\\n0              1102483 2018-07-25 00:00:29         1111         2328   \n1              1102484 2018-07-25 00:01:08          676         6846   \n2              1102485 2018-07-25 00:01:35          402         4771   \n3              1102486 2018-07-25 00:01:43         4218          863   \n4              1102487 2018-07-25 00:02:26         3711         3599   \n...                ...                 ...          ...          ...   \n201290         1303773 2018-08-14 23:57:03          460         6133   \n201291         1303774 2018-08-14 23:58:24         3101         3229   \n201292         1303775 2018-08-14 23:58:24         4783         7511   \n201293         1303776 2018-08-14 23:58:45         2883         8550   \n201294         1303777 2018-08-14 23:59:43         3901         8047   \n\n        TX_AMOUNT  TX_TIME_SECONDS  TX_TIME_DAYS  TX_FRAUD  TX_FRAUD_SCENARIO  \n0           40.77          9936029           115         0                  0  \n1            9.62          9936068           115         0                  0  \n2           81.55          9936095           115         0                  0  \n3           23.10          9936103           115         0                  0  \n4           59.25          9936146           115         0                  0  \n...           ...              ...           ...       ...                ...  \n201290      16.72         11750223           135         0                  0  \n201291      38.16         11750304           135         0                  0  \n201292      69.85         11750304           135         0                  0  \n201293      14.99         11750325           135         0                  0  \n201294      55.99         11750383           135         0                  0  \n\n[201295 rows x 9 columns]",
      "text/html": "<div>\n<style scoped>\n    .dataframe tbody tr th:only-of-type {\n        vertical-align: middle;\n    }\n\n    .dataframe tbody tr th {\n        vertical-align: top;\n    }\n\n    .dataframe thead th {\n        text-align: right;\n    }\n</style>\n<table border=\"1\" class=\"dataframe\">\n  <thead>\n    <tr style=\"text-align: right;\">\n      <th></th>\n      <th>TRANSACTION_ID</th>\n      <th>TX_DATETIME</th>\n      <th>CUSTOMER_ID</th>\n      <th>TERMINAL_ID</th>\n      <th>TX_AMOUNT</th>\n      <th>TX_TIME_SECONDS</th>\n      <th>TX_TIME_DAYS</th>\n      <th>TX_FRAUD</th>\n      <th>TX_FRAUD_SCENARIO</th>\n    </tr>\n  </thead>\n  <tbody>\n    <tr>\n      <th>0</th>\n      <td>1102483</td>\n      <td>2018-07-25 00:00:29</td>\n      <td>1111</td>\n      <td>2328</td>\n      <td>40.77</td>\n      <td>9936029</td>\n      <td>115</td>\n      <td>0</td>\n      <td>0</td>\n    </tr>\n    <tr>\n      <th>1</th>\n      <td>1102484</td>\n      <td>2018-07-25 00:01:08</td>\n      <td>676</td>\n      <td>6846</td>\n      <td>9.62</td>\n      <td>9936068</td>\n      <td>115</td>\n      <td>0</td>\n      <td>0</td>\n    </tr>\n    <tr>\n      <th>2</th>\n      <td>1102485</td>\n      <td>2018-07-25 00:01:35</td>\n      <td>402</td>\n      <td>4771</td>\n      <td>81.55</td>\n      <td>9936095</td>\n      <td>115</td>\n      <td>0</td>\n      <td>0</td>\n    </tr>\n    <tr>\n      <th>3</th>\n      <td>1102486</td>\n      <td>2018-07-25 00:01:43</td>\n      <td>4218</td>\n      <td>863</td>\n      <td>23.10</td>\n      <td>9936103</td>\n      <td>115</td>\n      <td>0</td>\n      <td>0</td>\n    </tr>\n    <tr>\n      <th>4</th>\n      <td>1102487</td>\n      <td>2018-07-25 00:02:26</td>\n      <td>3711</td>\n      <td>3599</td>\n      <td>59.25</td>\n      <td>9936146</td>\n      <td>115</td>\n      <td>0</td>\n      <td>0</td>\n    </tr>\n    <tr>\n      <th>...</th>\n      <td>...</td>\n      <td>...</td>\n      <td>...</td>\n      <td>...</td>\n      <td>...</td>\n      <td>...</td>\n      <td>...</td>\n      <td>...</td>\n      <td>...</td>\n    </tr>\n    <tr>\n      <th>201290</th>\n      <td>1303773</td>\n      <td>2018-08-14 23:57:03</td>\n      <td>460</td>\n      <td>6133</td>\n      <td>16.72</td>\n      <td>11750223</td>\n      <td>135</td>\n      <td>0</td>\n      <td>0</td>\n    </tr>\n    <tr>\n      <th>201291</th>\n      <td>1303774</td>\n      <td>2018-08-14 23:58:24</td>\n      <td>3101</td>\n      <td>3229</td>\n      <td>38.16</td>\n      <td>11750304</td>\n      <td>135</td>\n      <td>0</td>\n      <td>0</td>\n    </tr>\n    <tr>\n      <th>201292</th>\n      <td>1303775</td>\n      <td>2018-08-14 23:58:24</td>\n      <td>4783</td>\n      <td>7511</td>\n      <td>69.85</td>\n      <td>11750304</td>\n      <td>135</td>\n      <td>0</td>\n      <td>0</td>\n    </tr>\n    <tr>\n      <th>201293</th>\n      <td>1303776</td>\n      <td>2018-08-14 23:58:45</td>\n      <td>2883</td>\n      <td>8550</td>\n      <td>14.99</td>\n      <td>11750325</td>\n      <td>135</td>\n      <td>0</td>\n      <td>0</td>\n    </tr>\n    <tr>\n      <th>201294</th>\n      <td>1303777</td>\n      <td>2018-08-14 23:59:43</td>\n      <td>3901</td>\n      <td>8047</td>\n      <td>55.99</td>\n      <td>11750383</td>\n      <td>135</td>\n      <td>0</td>\n      <td>0</td>\n    </tr>\n  </tbody>\n</table>\n<p>201295 rows × 9 columns</p>\n</div>"
     },
     "execution_count": 4,
     "metadata": {},
     "output_type": "execute_result"
    }
   ],
   "source": [
    "transactions_df"
   ],
   "metadata": {
    "collapsed": false,
    "ExecuteTime": {
     "end_time": "2023-10-19T20:01:40.647973200Z",
     "start_time": "2023-10-19T20:01:40.590399800Z"
    }
   },
   "id": "2af8e41ece5e0d4d"
  },
  {
   "cell_type": "code",
   "execution_count": 5,
   "outputs": [],
   "source": [
    "transactions_df[\"TX_DATETIME\"] = transactions_df[\"TX_DATETIME\"].astype(np.int64)"
   ],
   "metadata": {
    "collapsed": false,
    "ExecuteTime": {
     "end_time": "2023-10-19T20:01:40.649011700Z",
     "start_time": "2023-10-19T20:01:40.621910400Z"
    }
   },
   "id": "dfb71cc5d1c4b93f"
  },
  {
   "cell_type": "code",
   "execution_count": 6,
   "outputs": [],
   "source": [
    "train, test = train_test_split(transactions_df, test_size=0.2)"
   ],
   "metadata": {
    "collapsed": false,
    "ExecuteTime": {
     "end_time": "2023-10-19T20:01:40.731310Z",
     "start_time": "2023-10-19T20:01:40.635722900Z"
    }
   },
   "id": "96020ca60dddad"
  },
  {
   "cell_type": "code",
   "execution_count": 7,
   "outputs": [],
   "source": [
    "X_train = train[[\"TRANSACTION_ID\",\"TX_DATETIME\",\"CUSTOMER_ID\",\"TERMINAL_ID\",\"TX_AMOUNT\",\"TX_TIME_SECONDS\",\"TX_TIME_DAYS\"]]"
   ],
   "metadata": {
    "collapsed": false,
    "ExecuteTime": {
     "end_time": "2023-10-19T20:01:40.795012Z",
     "start_time": "2023-10-19T20:01:40.682204200Z"
    }
   },
   "id": "ee93bb8c07c9cf06"
  },
  {
   "cell_type": "code",
   "execution_count": 8,
   "outputs": [],
   "source": [
    "X_test = test[[\"TRANSACTION_ID\",\"TX_DATETIME\",\"CUSTOMER_ID\",\"TERMINAL_ID\",\"TX_AMOUNT\",\"TX_TIME_SECONDS\",\"TX_TIME_DAYS\"]]"
   ],
   "metadata": {
    "collapsed": false,
    "ExecuteTime": {
     "end_time": "2023-10-19T20:01:40.834975800Z",
     "start_time": "2023-10-19T20:01:40.711892200Z"
    }
   },
   "id": "21435c827a221f55"
  },
  {
   "cell_type": "code",
   "execution_count": 9,
   "outputs": [],
   "source": [
    "Y_train = train[\"TX_FRAUD\"]"
   ],
   "metadata": {
    "collapsed": false,
    "ExecuteTime": {
     "end_time": "2023-10-19T20:01:40.838009900Z",
     "start_time": "2023-10-19T20:01:40.726415100Z"
    }
   },
   "id": "5fe1f704b0babcb9"
  },
  {
   "cell_type": "code",
   "execution_count": 10,
   "outputs": [],
   "source": [
    "Y_test = test[\"TX_FRAUD\"]"
   ],
   "metadata": {
    "collapsed": false,
    "ExecuteTime": {
     "end_time": "2023-10-19T20:01:40.876908300Z",
     "start_time": "2023-10-19T20:01:40.736424Z"
    }
   },
   "id": "6b2f9dc6831170a4"
  },
  {
   "cell_type": "code",
   "execution_count": 12,
   "outputs": [],
   "source": [
    "scaler = StandardScaler()\n",
    "X_train = scaler.fit_transform(X_train)\n",
    "X_test = scaler.transform(X_test)\n"
   ],
   "metadata": {
    "collapsed": false,
    "ExecuteTime": {
     "end_time": "2023-10-19T20:01:41.074035600Z",
     "start_time": "2023-10-19T20:01:40.953398700Z"
    }
   },
   "id": "dc8e9018bb11820e"
  },
  {
   "cell_type": "code",
   "execution_count": 13,
   "outputs": [
    {
     "data": {
      "text/plain": "KNeighborsClassifier(n_neighbors=3)",
      "text/html": "<style>#sk-container-id-1 {color: black;}#sk-container-id-1 pre{padding: 0;}#sk-container-id-1 div.sk-toggleable {background-color: white;}#sk-container-id-1 label.sk-toggleable__label {cursor: pointer;display: block;width: 100%;margin-bottom: 0;padding: 0.3em;box-sizing: border-box;text-align: center;}#sk-container-id-1 label.sk-toggleable__label-arrow:before {content: \"▸\";float: left;margin-right: 0.25em;color: #696969;}#sk-container-id-1 label.sk-toggleable__label-arrow:hover:before {color: black;}#sk-container-id-1 div.sk-estimator:hover label.sk-toggleable__label-arrow:before {color: black;}#sk-container-id-1 div.sk-toggleable__content {max-height: 0;max-width: 0;overflow: hidden;text-align: left;background-color: #f0f8ff;}#sk-container-id-1 div.sk-toggleable__content pre {margin: 0.2em;color: black;border-radius: 0.25em;background-color: #f0f8ff;}#sk-container-id-1 input.sk-toggleable__control:checked~div.sk-toggleable__content {max-height: 200px;max-width: 100%;overflow: auto;}#sk-container-id-1 input.sk-toggleable__control:checked~label.sk-toggleable__label-arrow:before {content: \"▾\";}#sk-container-id-1 div.sk-estimator input.sk-toggleable__control:checked~label.sk-toggleable__label {background-color: #d4ebff;}#sk-container-id-1 div.sk-label input.sk-toggleable__control:checked~label.sk-toggleable__label {background-color: #d4ebff;}#sk-container-id-1 input.sk-hidden--visually {border: 0;clip: rect(1px 1px 1px 1px);clip: rect(1px, 1px, 1px, 1px);height: 1px;margin: -1px;overflow: hidden;padding: 0;position: absolute;width: 1px;}#sk-container-id-1 div.sk-estimator {font-family: monospace;background-color: #f0f8ff;border: 1px dotted black;border-radius: 0.25em;box-sizing: border-box;margin-bottom: 0.5em;}#sk-container-id-1 div.sk-estimator:hover {background-color: #d4ebff;}#sk-container-id-1 div.sk-parallel-item::after {content: \"\";width: 100%;border-bottom: 1px solid gray;flex-grow: 1;}#sk-container-id-1 div.sk-label:hover label.sk-toggleable__label {background-color: #d4ebff;}#sk-container-id-1 div.sk-serial::before {content: \"\";position: absolute;border-left: 1px solid gray;box-sizing: border-box;top: 0;bottom: 0;left: 50%;z-index: 0;}#sk-container-id-1 div.sk-serial {display: flex;flex-direction: column;align-items: center;background-color: white;padding-right: 0.2em;padding-left: 0.2em;position: relative;}#sk-container-id-1 div.sk-item {position: relative;z-index: 1;}#sk-container-id-1 div.sk-parallel {display: flex;align-items: stretch;justify-content: center;background-color: white;position: relative;}#sk-container-id-1 div.sk-item::before, #sk-container-id-1 div.sk-parallel-item::before {content: \"\";position: absolute;border-left: 1px solid gray;box-sizing: border-box;top: 0;bottom: 0;left: 50%;z-index: -1;}#sk-container-id-1 div.sk-parallel-item {display: flex;flex-direction: column;z-index: 1;position: relative;background-color: white;}#sk-container-id-1 div.sk-parallel-item:first-child::after {align-self: flex-end;width: 50%;}#sk-container-id-1 div.sk-parallel-item:last-child::after {align-self: flex-start;width: 50%;}#sk-container-id-1 div.sk-parallel-item:only-child::after {width: 0;}#sk-container-id-1 div.sk-dashed-wrapped {border: 1px dashed gray;margin: 0 0.4em 0.5em 0.4em;box-sizing: border-box;padding-bottom: 0.4em;background-color: white;}#sk-container-id-1 div.sk-label label {font-family: monospace;font-weight: bold;display: inline-block;line-height: 1.2em;}#sk-container-id-1 div.sk-label-container {text-align: center;}#sk-container-id-1 div.sk-container {/* jupyter's `normalize.less` sets `[hidden] { display: none; }` but bootstrap.min.css set `[hidden] { display: none !important; }` so we also need the `!important` here to be able to override the default hidden behavior on the sphinx rendered scikit-learn.org. See: https://github.com/scikit-learn/scikit-learn/issues/21755 */display: inline-block !important;position: relative;}#sk-container-id-1 div.sk-text-repr-fallback {display: none;}</style><div id=\"sk-container-id-1\" class=\"sk-top-container\"><div class=\"sk-text-repr-fallback\"><pre>KNeighborsClassifier(n_neighbors=3)</pre><b>In a Jupyter environment, please rerun this cell to show the HTML representation or trust the notebook. <br />On GitHub, the HTML representation is unable to render, please try loading this page with nbviewer.org.</b></div><div class=\"sk-container\" hidden><div class=\"sk-item\"><div class=\"sk-estimator sk-toggleable\"><input class=\"sk-toggleable__control sk-hidden--visually\" id=\"sk-estimator-id-1\" type=\"checkbox\" checked><label for=\"sk-estimator-id-1\" class=\"sk-toggleable__label sk-toggleable__label-arrow\">KNeighborsClassifier</label><div class=\"sk-toggleable__content\"><pre>KNeighborsClassifier(n_neighbors=3)</pre></div></div></div></div></div>"
     },
     "execution_count": 13,
     "metadata": {},
     "output_type": "execute_result"
    }
   ],
   "source": [
    "knn = KNeighborsClassifier(n_neighbors=3)\n",
    "knn.fit(X_train, Y_train)\n"
   ],
   "metadata": {
    "collapsed": false,
    "ExecuteTime": {
     "end_time": "2023-10-19T20:01:41.958394400Z",
     "start_time": "2023-10-19T20:01:41.012193600Z"
    }
   },
   "id": "30a0c275087f6a5c"
  },
  {
   "cell_type": "code",
   "execution_count": 14,
   "outputs": [
    {
     "name": "stdout",
     "output_type": "stream",
     "text": [
      "Accuracy: 0.9919\n"
     ]
    }
   ],
   "source": [
    "y_pred = knn.predict(X_test)\n",
    "\n",
    "accuracy = accuracy_score(Y_test, y_pred)\n",
    "print(f\"Accuracy: {accuracy:.4f}\")\n"
   ],
   "metadata": {
    "collapsed": false,
    "ExecuteTime": {
     "end_time": "2023-10-19T20:01:46.523913900Z",
     "start_time": "2023-10-19T20:01:41.944381600Z"
    }
   },
   "id": "87e9a67e9c77cc1c"
  },
  {
   "cell_type": "code",
   "execution_count": 23,
   "outputs": [
    {
     "name": "stdout",
     "output_type": "stream",
     "text": [
      "Load  files...\n",
      "Done\n"
     ]
    }
   ],
   "source": [
    "# Load data from the 2018-07-25 to the 2018-08-14\n",
    "\n",
    "DIR_INPUT='../training-data/input' \n",
    "\n",
    "BEGIN_DATE = \"2018-04-01\"\n",
    "END_DATE = \"2018-09-30\"\n",
    "\n",
    "print(\"Load  files...\")\n",
    "input_training_data=read_transaction_data(DIR_INPUT, BEGIN_DATE, END_DATE)\n",
    "print(\"Done\")\n"
   ],
   "metadata": {
    "collapsed": false,
    "ExecuteTime": {
     "end_time": "2023-10-19T20:04:51.497457500Z",
     "start_time": "2023-10-19T20:04:50.363642200Z"
    }
   },
   "id": "2c401727d9ceae8"
  },
  {
   "cell_type": "code",
   "execution_count": 16,
   "outputs": [],
   "source": [
    "input_training[\"TX_DATETIME\"] = input_training[\"TX_DATETIME\"].astype(np.int64)"
   ],
   "metadata": {
    "collapsed": false,
    "ExecuteTime": {
     "end_time": "2023-10-19T20:01:47.481225200Z",
     "start_time": "2023-10-19T20:01:47.417103400Z"
    }
   },
   "id": "1c1171547acb8a9f"
  },
  {
   "cell_type": "code",
   "execution_count": 17,
   "outputs": [],
   "source": [
    "input_training = scaler.fit_transform(input_training)\n"
   ],
   "metadata": {
    "collapsed": false,
    "ExecuteTime": {
     "end_time": "2023-10-19T20:01:47.939041200Z",
     "start_time": "2023-10-19T20:01:47.442218200Z"
    }
   },
   "id": "7009237d4cdb06ee"
  },
  {
   "cell_type": "code",
   "execution_count": 18,
   "outputs": [
    {
     "data": {
      "text/plain": "(1754155, 7)"
     },
     "execution_count": 18,
     "metadata": {},
     "output_type": "execute_result"
    }
   ],
   "source": [
    "input_training.shape"
   ],
   "metadata": {
    "collapsed": false,
    "ExecuteTime": {
     "end_time": "2023-10-19T20:01:47.964816400Z",
     "start_time": "2023-10-19T20:01:47.927998400Z"
    }
   },
   "id": "6b9c8939367026b7"
  },
  {
   "cell_type": "code",
   "execution_count": 24,
   "outputs": [
    {
     "data": {
      "text/plain": "(1754155,)"
     },
     "execution_count": 24,
     "metadata": {},
     "output_type": "execute_result"
    }
   ],
   "source": [
    "y_pred.shape"
   ],
   "metadata": {
    "collapsed": false,
    "ExecuteTime": {
     "end_time": "2023-10-19T20:04:54.453987200Z",
     "start_time": "2023-10-19T20:04:54.375544600Z"
    }
   },
   "id": "c9243ee0ab487208"
  },
  {
   "cell_type": "code",
   "execution_count": 20,
   "outputs": [],
   "source": [
    "y_pred = knn.predict(input_training)"
   ],
   "metadata": {
    "collapsed": false,
    "ExecuteTime": {
     "end_time": "2023-10-19T20:04:12.775294700Z",
     "start_time": "2023-10-19T20:01:47.960691100Z"
    }
   },
   "id": "71d7b02b2eed20ad"
  },
  {
   "cell_type": "code",
   "execution_count": 21,
   "outputs": [
    {
     "data": {
      "text/plain": "array([0, 0, 0, ..., 0, 0, 0], dtype=int64)"
     },
     "execution_count": 21,
     "metadata": {},
     "output_type": "execute_result"
    }
   ],
   "source": [
    "y_pred"
   ],
   "metadata": {
    "collapsed": false,
    "ExecuteTime": {
     "end_time": "2023-10-19T20:04:12.780623800Z",
     "start_time": "2023-10-19T20:04:12.775294700Z"
    }
   },
   "id": "95a7bccc15a7af8b"
  },
  {
   "cell_type": "code",
   "execution_count": 25,
   "outputs": [],
   "source": [
    "input_training_data[\"prediction\"] = y_pred"
   ],
   "metadata": {
    "collapsed": false,
    "ExecuteTime": {
     "end_time": "2023-10-19T20:05:00.487873100Z",
     "start_time": "2023-10-19T20:05:00.409307800Z"
    }
   },
   "id": "58be52bcba54d2d7"
  },
  {
   "cell_type": "code",
   "execution_count": 26,
   "outputs": [
    {
     "data": {
      "text/plain": "         TRANSACTION_ID         TX_DATETIME  CUSTOMER_ID  TERMINAL_ID  \\\n0                     0 2018-04-01 00:00:31          596         3156   \n1                     1 2018-04-01 00:02:10         4961         3412   \n2                     2 2018-04-01 00:07:56            2         1365   \n3                     3 2018-04-01 00:09:29         4128         8737   \n4                     4 2018-04-01 00:10:34          927         9906   \n...                 ...                 ...          ...          ...   \n1754150         1754150 2018-09-30 23:56:36          161          655   \n1754151         1754151 2018-09-30 23:57:38         4342         6181   \n1754152         1754152 2018-09-30 23:58:21          618         1502   \n1754153         1754153 2018-09-30 23:59:52         4056         3067   \n1754154         1754154 2018-09-30 23:59:57         3542         9849   \n\n         TX_AMOUNT  TX_TIME_SECONDS  TX_TIME_DAYS  prediction  \n0            57.16               31             0           0  \n1            81.51              130             0           0  \n2           146.00              476             0           0  \n3            64.49              569             0           0  \n4            50.99              634             0           0  \n...            ...              ...           ...         ...  \n1754150      54.24         15810996           182           0  \n1754151       1.23         15811058           182           0  \n1754152       6.62         15811101           182           0  \n1754153      55.40         15811192           182           0  \n1754154      23.59         15811197           182           0  \n\n[1754155 rows x 8 columns]",
      "text/html": "<div>\n<style scoped>\n    .dataframe tbody tr th:only-of-type {\n        vertical-align: middle;\n    }\n\n    .dataframe tbody tr th {\n        vertical-align: top;\n    }\n\n    .dataframe thead th {\n        text-align: right;\n    }\n</style>\n<table border=\"1\" class=\"dataframe\">\n  <thead>\n    <tr style=\"text-align: right;\">\n      <th></th>\n      <th>TRANSACTION_ID</th>\n      <th>TX_DATETIME</th>\n      <th>CUSTOMER_ID</th>\n      <th>TERMINAL_ID</th>\n      <th>TX_AMOUNT</th>\n      <th>TX_TIME_SECONDS</th>\n      <th>TX_TIME_DAYS</th>\n      <th>prediction</th>\n    </tr>\n  </thead>\n  <tbody>\n    <tr>\n      <th>0</th>\n      <td>0</td>\n      <td>2018-04-01 00:00:31</td>\n      <td>596</td>\n      <td>3156</td>\n      <td>57.16</td>\n      <td>31</td>\n      <td>0</td>\n      <td>0</td>\n    </tr>\n    <tr>\n      <th>1</th>\n      <td>1</td>\n      <td>2018-04-01 00:02:10</td>\n      <td>4961</td>\n      <td>3412</td>\n      <td>81.51</td>\n      <td>130</td>\n      <td>0</td>\n      <td>0</td>\n    </tr>\n    <tr>\n      <th>2</th>\n      <td>2</td>\n      <td>2018-04-01 00:07:56</td>\n      <td>2</td>\n      <td>1365</td>\n      <td>146.00</td>\n      <td>476</td>\n      <td>0</td>\n      <td>0</td>\n    </tr>\n    <tr>\n      <th>3</th>\n      <td>3</td>\n      <td>2018-04-01 00:09:29</td>\n      <td>4128</td>\n      <td>8737</td>\n      <td>64.49</td>\n      <td>569</td>\n      <td>0</td>\n      <td>0</td>\n    </tr>\n    <tr>\n      <th>4</th>\n      <td>4</td>\n      <td>2018-04-01 00:10:34</td>\n      <td>927</td>\n      <td>9906</td>\n      <td>50.99</td>\n      <td>634</td>\n      <td>0</td>\n      <td>0</td>\n    </tr>\n    <tr>\n      <th>...</th>\n      <td>...</td>\n      <td>...</td>\n      <td>...</td>\n      <td>...</td>\n      <td>...</td>\n      <td>...</td>\n      <td>...</td>\n      <td>...</td>\n    </tr>\n    <tr>\n      <th>1754150</th>\n      <td>1754150</td>\n      <td>2018-09-30 23:56:36</td>\n      <td>161</td>\n      <td>655</td>\n      <td>54.24</td>\n      <td>15810996</td>\n      <td>182</td>\n      <td>0</td>\n    </tr>\n    <tr>\n      <th>1754151</th>\n      <td>1754151</td>\n      <td>2018-09-30 23:57:38</td>\n      <td>4342</td>\n      <td>6181</td>\n      <td>1.23</td>\n      <td>15811058</td>\n      <td>182</td>\n      <td>0</td>\n    </tr>\n    <tr>\n      <th>1754152</th>\n      <td>1754152</td>\n      <td>2018-09-30 23:58:21</td>\n      <td>618</td>\n      <td>1502</td>\n      <td>6.62</td>\n      <td>15811101</td>\n      <td>182</td>\n      <td>0</td>\n    </tr>\n    <tr>\n      <th>1754153</th>\n      <td>1754153</td>\n      <td>2018-09-30 23:59:52</td>\n      <td>4056</td>\n      <td>3067</td>\n      <td>55.40</td>\n      <td>15811192</td>\n      <td>182</td>\n      <td>0</td>\n    </tr>\n    <tr>\n      <th>1754154</th>\n      <td>1754154</td>\n      <td>2018-09-30 23:59:57</td>\n      <td>3542</td>\n      <td>9849</td>\n      <td>23.59</td>\n      <td>15811197</td>\n      <td>182</td>\n      <td>0</td>\n    </tr>\n  </tbody>\n</table>\n<p>1754155 rows × 8 columns</p>\n</div>"
     },
     "execution_count": 26,
     "metadata": {},
     "output_type": "execute_result"
    }
   ],
   "source": [
    "input_training_data"
   ],
   "metadata": {
    "collapsed": false,
    "ExecuteTime": {
     "end_time": "2023-10-19T20:05:03.523083200Z",
     "start_time": "2023-10-19T20:05:03.491509600Z"
    }
   },
   "id": "a89adc46b91c020b"
  },
  {
   "cell_type": "code",
   "execution_count": 27,
   "outputs": [],
   "source": [
    "filtered_df = input_training_data[input_training_data['prediction'] == 1]"
   ],
   "metadata": {
    "collapsed": false,
    "ExecuteTime": {
     "end_time": "2023-10-19T20:05:10.593013500Z",
     "start_time": "2023-10-19T20:05:10.435728Z"
    }
   },
   "id": "3b166115137be9c7"
  },
  {
   "cell_type": "code",
   "execution_count": 28,
   "outputs": [
    {
     "data": {
      "text/plain": "         TRANSACTION_ID         TX_DATETIME  CUSTOMER_ID  TERMINAL_ID  \\\n3527               3527 2018-04-01 10:17:43         3774         3059   \n5790               5790 2018-04-01 13:31:48         4944         6050   \n6549               6549 2018-04-01 14:42:02         4625         9102   \n10749             10749 2018-04-02 06:06:00         3770         5671   \n11556             11556 2018-04-02 07:46:45         1863         4841   \n...                 ...                 ...          ...          ...   \n1750457         1750457 2018-09-30 13:43:56         4314         5774   \n1750861         1750861 2018-09-30 14:19:26         3280         1405   \n1751380         1751380 2018-09-30 15:05:02         3516         6801   \n1752248         1752248 2018-09-30 16:36:25         1771         7763   \n1753081         1753081 2018-09-30 18:29:03         3059         8488   \n\n         TX_AMOUNT  TX_TIME_SECONDS  TX_TIME_DAYS  prediction  \n3527        225.41            37063             0           1  \n5790        222.26            48708             0           1  \n6549        226.40            52922             0           1  \n10749       264.95           108360             1           1  \n11556       265.17           114405             1           1  \n...            ...              ...           ...         ...  \n1750457     386.35         15774236           182           1  \n1750861     427.50         15776366           182           1  \n1751380     569.40         15779102           182           1  \n1752248     375.95         15784585           182           1  \n1753081     358.20         15791343           182           1  \n\n[3062 rows x 8 columns]",
      "text/html": "<div>\n<style scoped>\n    .dataframe tbody tr th:only-of-type {\n        vertical-align: middle;\n    }\n\n    .dataframe tbody tr th {\n        vertical-align: top;\n    }\n\n    .dataframe thead th {\n        text-align: right;\n    }\n</style>\n<table border=\"1\" class=\"dataframe\">\n  <thead>\n    <tr style=\"text-align: right;\">\n      <th></th>\n      <th>TRANSACTION_ID</th>\n      <th>TX_DATETIME</th>\n      <th>CUSTOMER_ID</th>\n      <th>TERMINAL_ID</th>\n      <th>TX_AMOUNT</th>\n      <th>TX_TIME_SECONDS</th>\n      <th>TX_TIME_DAYS</th>\n      <th>prediction</th>\n    </tr>\n  </thead>\n  <tbody>\n    <tr>\n      <th>3527</th>\n      <td>3527</td>\n      <td>2018-04-01 10:17:43</td>\n      <td>3774</td>\n      <td>3059</td>\n      <td>225.41</td>\n      <td>37063</td>\n      <td>0</td>\n      <td>1</td>\n    </tr>\n    <tr>\n      <th>5790</th>\n      <td>5790</td>\n      <td>2018-04-01 13:31:48</td>\n      <td>4944</td>\n      <td>6050</td>\n      <td>222.26</td>\n      <td>48708</td>\n      <td>0</td>\n      <td>1</td>\n    </tr>\n    <tr>\n      <th>6549</th>\n      <td>6549</td>\n      <td>2018-04-01 14:42:02</td>\n      <td>4625</td>\n      <td>9102</td>\n      <td>226.40</td>\n      <td>52922</td>\n      <td>0</td>\n      <td>1</td>\n    </tr>\n    <tr>\n      <th>10749</th>\n      <td>10749</td>\n      <td>2018-04-02 06:06:00</td>\n      <td>3770</td>\n      <td>5671</td>\n      <td>264.95</td>\n      <td>108360</td>\n      <td>1</td>\n      <td>1</td>\n    </tr>\n    <tr>\n      <th>11556</th>\n      <td>11556</td>\n      <td>2018-04-02 07:46:45</td>\n      <td>1863</td>\n      <td>4841</td>\n      <td>265.17</td>\n      <td>114405</td>\n      <td>1</td>\n      <td>1</td>\n    </tr>\n    <tr>\n      <th>...</th>\n      <td>...</td>\n      <td>...</td>\n      <td>...</td>\n      <td>...</td>\n      <td>...</td>\n      <td>...</td>\n      <td>...</td>\n      <td>...</td>\n    </tr>\n    <tr>\n      <th>1750457</th>\n      <td>1750457</td>\n      <td>2018-09-30 13:43:56</td>\n      <td>4314</td>\n      <td>5774</td>\n      <td>386.35</td>\n      <td>15774236</td>\n      <td>182</td>\n      <td>1</td>\n    </tr>\n    <tr>\n      <th>1750861</th>\n      <td>1750861</td>\n      <td>2018-09-30 14:19:26</td>\n      <td>3280</td>\n      <td>1405</td>\n      <td>427.50</td>\n      <td>15776366</td>\n      <td>182</td>\n      <td>1</td>\n    </tr>\n    <tr>\n      <th>1751380</th>\n      <td>1751380</td>\n      <td>2018-09-30 15:05:02</td>\n      <td>3516</td>\n      <td>6801</td>\n      <td>569.40</td>\n      <td>15779102</td>\n      <td>182</td>\n      <td>1</td>\n    </tr>\n    <tr>\n      <th>1752248</th>\n      <td>1752248</td>\n      <td>2018-09-30 16:36:25</td>\n      <td>1771</td>\n      <td>7763</td>\n      <td>375.95</td>\n      <td>15784585</td>\n      <td>182</td>\n      <td>1</td>\n    </tr>\n    <tr>\n      <th>1753081</th>\n      <td>1753081</td>\n      <td>2018-09-30 18:29:03</td>\n      <td>3059</td>\n      <td>8488</td>\n      <td>358.20</td>\n      <td>15791343</td>\n      <td>182</td>\n      <td>1</td>\n    </tr>\n  </tbody>\n</table>\n<p>3062 rows × 8 columns</p>\n</div>"
     },
     "execution_count": 28,
     "metadata": {},
     "output_type": "execute_result"
    }
   ],
   "source": [
    "filtered_df"
   ],
   "metadata": {
    "collapsed": false,
    "ExecuteTime": {
     "end_time": "2023-10-19T20:05:12.926397700Z",
     "start_time": "2023-10-19T20:05:12.801154900Z"
    }
   },
   "id": "c3c09c28405dcecc"
  },
  {
   "cell_type": "code",
   "execution_count": 29,
   "outputs": [
    {
     "name": "stdout",
     "output_type": "stream",
     "text": [
      "3062\n"
     ]
    }
   ],
   "source": [
    "print(sum(y_pred))"
   ],
   "metadata": {
    "collapsed": false,
    "ExecuteTime": {
     "end_time": "2023-10-19T20:05:17.425557700Z",
     "start_time": "2023-10-19T20:05:17.208407700Z"
    }
   },
   "id": "f17824bd6893587b"
  },
  {
   "cell_type": "code",
   "execution_count": 30,
   "outputs": [],
   "source": [
    "ids = filtered_df[\"TRANSACTION_ID\"]"
   ],
   "metadata": {
    "collapsed": false,
    "ExecuteTime": {
     "end_time": "2023-10-19T20:06:32.122526900Z",
     "start_time": "2023-10-19T20:06:32.028232800Z"
    }
   },
   "id": "d8ac05e396692f1e"
  },
  {
   "cell_type": "code",
   "execution_count": 31,
   "outputs": [
    {
     "data": {
      "text/plain": "3527          3527\n5790          5790\n6549          6549\n10749        10749\n11556        11556\n            ...   \n1750457    1750457\n1750861    1750861\n1751380    1751380\n1752248    1752248\n1753081    1753081\nName: TRANSACTION_ID, Length: 3062, dtype: int64"
     },
     "execution_count": 31,
     "metadata": {},
     "output_type": "execute_result"
    }
   ],
   "source": [
    "ids"
   ],
   "metadata": {
    "collapsed": false,
    "ExecuteTime": {
     "end_time": "2023-10-19T20:06:35.259883400Z",
     "start_time": "2023-10-19T20:06:35.085689900Z"
    }
   },
   "id": "623ab13250ac3c20"
  },
  {
   "cell_type": "code",
   "execution_count": 44,
   "outputs": [],
   "source": [
    "def write_list_to_text_file(filename, input_list):\n",
    "    try:\n",
    "        with open(filename, 'w') as file:\n",
    "            for item in input_list:\n",
    "                file.write(str(item) + '\\n')\n",
    "        print(f\"Successfully wrote {len(input_list)} items to {filename}\")\n",
    "    except IOError as e:\n",
    "        print(f\"Error writing to {filename}: {e}\")"
   ],
   "metadata": {
    "collapsed": false,
    "ExecuteTime": {
     "end_time": "2023-10-19T20:10:14.905923100Z",
     "start_time": "2023-10-19T20:10:14.858855900Z"
    }
   },
   "id": "4ddde5b7f800acee"
  },
  {
   "cell_type": "code",
   "execution_count": 33,
   "outputs": [],
   "source": [
    "lst = ids.to_numpy()"
   ],
   "metadata": {
    "collapsed": false,
    "ExecuteTime": {
     "end_time": "2023-10-19T20:07:48.184087500Z",
     "start_time": "2023-10-19T20:07:48.137087800Z"
    }
   },
   "id": "1ff45b95e5af3f90"
  },
  {
   "cell_type": "code",
   "execution_count": 38,
   "outputs": [],
   "source": [
    "lst = lst.reshape(1,-1)"
   ],
   "metadata": {
    "collapsed": false,
    "ExecuteTime": {
     "end_time": "2023-10-19T20:08:42.602315300Z",
     "start_time": "2023-10-19T20:08:42.555165100Z"
    }
   },
   "id": "3454f4f032a37d99"
  },
  {
   "cell_type": "code",
   "execution_count": 41,
   "outputs": [],
   "source": [
    "lst = lst.tolist()"
   ],
   "metadata": {
    "collapsed": false,
    "ExecuteTime": {
     "end_time": "2023-10-19T20:09:45.300505600Z",
     "start_time": "2023-10-19T20:09:45.253205800Z"
    }
   },
   "id": "c48fa000d178e62"
  },
  {
   "cell_type": "code",
   "execution_count": 42,
   "outputs": [
    {
     "data": {
      "text/plain": "[[3527,\n  5790,\n  6549,\n  10749,\n  11556,\n  15257,\n  18260,\n  23511,\n  26719,\n  28150,\n  30183,\n  30439,\n  31579,\n  33277,\n  36625,\n  37136,\n  38021,\n  43829,\n  43956,\n  44519,\n  47090,\n  47355,\n  49044,\n  49535,\n  49563,\n  50116,\n  50568,\n  50767,\n  50862,\n  51196,\n  51812,\n  52458,\n  52729,\n  53149,\n  55431,\n  55761,\n  55994,\n  56310,\n  56659,\n  57653,\n  59148,\n  59566,\n  61052,\n  61762,\n  63254,\n  64339,\n  64412,\n  64505,\n  65694,\n  65939,\n  66864,\n  67690,\n  67727,\n  69251,\n  69714,\n  70184,\n  70294,\n  70583,\n  70781,\n  71314,\n  71435,\n  72615,\n  72912,\n  73116,\n  73806,\n  74616,\n  75563,\n  75647,\n  75947,\n  76455,\n  76689,\n  77379,\n  77562,\n  77624,\n  78714,\n  79370,\n  79769,\n  80385,\n  80772,\n  82896,\n  83939,\n  84256,\n  84645,\n  85920,\n  86337,\n  86367,\n  86742,\n  86951,\n  87061,\n  87218,\n  87584,\n  88132,\n  88978,\n  89120,\n  89365,\n  89521,\n  89789,\n  90550,\n  91322,\n  91973,\n  92580,\n  94232,\n  94842,\n  94854,\n  95160,\n  95388,\n  95411,\n  96052,\n  96683,\n  97000,\n  97838,\n  97844,\n  97874,\n  97900,\n  99250,\n  100203,\n  100641,\n  100878,\n  101131,\n  101190,\n  101406,\n  101740,\n  102948,\n  104029,\n  104147,\n  104914,\n  106740,\n  107081,\n  107534,\n  108035,\n  109019,\n  109984,\n  110308,\n  110721,\n  111338,\n  111479,\n  111857,\n  112003,\n  112112,\n  115262,\n  115695,\n  116425,\n  116742,\n  117452,\n  118113,\n  118411,\n  122276,\n  122726,\n  123127,\n  124558,\n  124657,\n  125615,\n  126143,\n  126147,\n  126156,\n  126379,\n  128043,\n  128046,\n  128744,\n  128868,\n  129632,\n  130340,\n  130765,\n  130834,\n  130860,\n  132377,\n  132720,\n  133141,\n  133682,\n  135294,\n  136821,\n  136931,\n  138089,\n  138124,\n  138269,\n  139009,\n  139445,\n  141046,\n  141256,\n  141412,\n  142290,\n  142905,\n  143012,\n  143190,\n  143595,\n  144386,\n  144430,\n  144536,\n  144744,\n  144863,\n  145411,\n  145662,\n  145939,\n  146342,\n  147762,\n  149305,\n  149595,\n  150491,\n  151065,\n  152034,\n  152330,\n  152716,\n  152747,\n  153028,\n  153976,\n  154241,\n  154419,\n  154500,\n  154543,\n  154934,\n  155193,\n  155471,\n  155712,\n  156807,\n  156968,\n  157039,\n  157089,\n  157384,\n  157508,\n  157589,\n  158731,\n  159333,\n  159384,\n  159488,\n  159955,\n  162878,\n  163097,\n  163408,\n  164217,\n  165601,\n  165845,\n  166093,\n  166390,\n  166747,\n  166979,\n  167017,\n  167923,\n  169541,\n  169555,\n  170497,\n  171070,\n  171251,\n  172031,\n  173456,\n  173599,\n  174067,\n  174295,\n  174340,\n  174568,\n  174943,\n  175888,\n  176006,\n  176165,\n  176183,\n  176418,\n  177427,\n  177692,\n  177743,\n  178087,\n  178351,\n  178361,\n  179543,\n  179559,\n  179903,\n  181833,\n  182723,\n  183922,\n  184277,\n  184479,\n  184582,\n  184589,\n  185752,\n  185886,\n  186891,\n  187540,\n  188768,\n  190680,\n  192383,\n  193546,\n  195540,\n  195651,\n  196026,\n  196306,\n  196408,\n  196450,\n  196541,\n  196998,\n  197088,\n  197936,\n  198384,\n  200747,\n  201129,\n  202222,\n  202251,\n  202531,\n  202683,\n  202967,\n  203054,\n  203420,\n  203729,\n  203807,\n  204504,\n  205167,\n  206386,\n  206786,\n  207648,\n  208015,\n  208528,\n  209102,\n  210188,\n  210658,\n  211205,\n  211428,\n  211586,\n  213334,\n  213534,\n  213759,\n  213823,\n  214288,\n  214643,\n  214660,\n  215379,\n  215458,\n  215821,\n  215825,\n  215947,\n  216002,\n  216938,\n  218099,\n  218723,\n  219528,\n  220484,\n  220593,\n  220609,\n  220631,\n  220943,\n  220985,\n  221273,\n  221291,\n  221486,\n  222582,\n  222799,\n  223557,\n  225252,\n  225953,\n  228269,\n  228606,\n  229161,\n  229233,\n  229637,\n  229693,\n  230037,\n  230359,\n  232328,\n  232577,\n  233089,\n  233554,\n  234084,\n  234641,\n  234654,\n  235377,\n  236053,\n  237204,\n  237364,\n  237981,\n  238495,\n  239450,\n  241413,\n  241687,\n  241801,\n  242134,\n  242346,\n  243008,\n  243815,\n  244568,\n  246360,\n  246481,\n  247545,\n  248444,\n  248725,\n  249226,\n  250822,\n  251544,\n  251738,\n  252497,\n  252576,\n  252720,\n  253667,\n  253976,\n  254037,\n  254188,\n  256381,\n  257506,\n  257745,\n  258102,\n  258454,\n  260855,\n  261300,\n  261717,\n  261893,\n  262338,\n  262870,\n  263894,\n  263902,\n  263997,\n  264581,\n  265475,\n  265954,\n  266249,\n  266292,\n  267970,\n  268115,\n  268398,\n  268433,\n  268702,\n  268723,\n  268775,\n  269497,\n  270159,\n  270237,\n  271428,\n  271653,\n  271927,\n  272151,\n  272949,\n  273325,\n  274433,\n  274496,\n  275477,\n  276413,\n  276478,\n  277478,\n  278007,\n  278299,\n  278891,\n  279120,\n  280071,\n  281914,\n  281926,\n  282067,\n  282508,\n  282682,\n  282737,\n  283568,\n  283858,\n  283899,\n  283913,\n  284195,\n  284269,\n  284415,\n  284503,\n  284747,\n  285121,\n  285449,\n  285814,\n  285848,\n  286016,\n  286684,\n  287176,\n  287199,\n  287518,\n  288365,\n  288926,\n  289050,\n  289703,\n  290992,\n  291814,\n  292031,\n  292093,\n  292370,\n  292482,\n  292497,\n  292664,\n  293419,\n  293634,\n  293784,\n  294163,\n  294205,\n  294315,\n  295112,\n  295284,\n  295301,\n  295561,\n  296089,\n  296251,\n  296424,\n  296760,\n  297502,\n  298049,\n  298277,\n  298609,\n  298736,\n  298751,\n  299319,\n  299854,\n  300033,\n  300340,\n  300501,\n  300683,\n  300976,\n  301576,\n  301585,\n  301901,\n  302538,\n  302626,\n  303178,\n  303326,\n  304461,\n  306016,\n  306189,\n  307364,\n  308123,\n  308323,\n  308422,\n  308885,\n  308933,\n  309039,\n  309565,\n  309745,\n  310247,\n  310297,\n  310933,\n  311626,\n  312063,\n  312317,\n  312393,\n  312439,\n  313058,\n  313313,\n  314107,\n  314318,\n  314349,\n  314357,\n  314711,\n  315355,\n  315558,\n  315974,\n  316195,\n  316516,\n  316743,\n  316843,\n  316975,\n  317007,\n  318029,\n  318070,\n  318349,\n  318944,\n  319522,\n  320062,\n  320241,\n  320574,\n  320974,\n  321311,\n  321395,\n  321640,\n  322393,\n  322737,\n  323429,\n  323687,\n  323862,\n  324367,\n  324743,\n  324841,\n  325063,\n  325999,\n  326379,\n  327844,\n  329191,\n  329654,\n  330193,\n  330812,\n  330878,\n  331104,\n  331455,\n  331658,\n  331736,\n  332329,\n  332340,\n  332871,\n  334105,\n  334386,\n  334448,\n  335272,\n  335425,\n  337328,\n  337544,\n  337970,\n  338528,\n  338852,\n  339221,\n  339887,\n  340629,\n  341068,\n  341744,\n  341794,\n  341830,\n  341869,\n  342728,\n  343350,\n  343644,\n  344627,\n  345785,\n  345790,\n  346991,\n  347029,\n  347148,\n  347966,\n  348050,\n  348702,\n  348820,\n  349666,\n  350078,\n  350383,\n  351256,\n  351605,\n  352007,\n  352060,\n  352118,\n  352558,\n  352767,\n  353380,\n  353671,\n  353734,\n  356250,\n  357009,\n  357857,\n  357924,\n  358215,\n  358363,\n  358671,\n  359022,\n  359192,\n  359239,\n  359534,\n  360643,\n  360939,\n  361836,\n  362978,\n  363623,\n  363723,\n  363770,\n  363808,\n  363881,\n  364604,\n  365331,\n  366426,\n  366850,\n  367529,\n  369464,\n  371432,\n  371907,\n  373549,\n  373698,\n  374041,\n  375095,\n  375158,\n  375463,\n  375866,\n  375931,\n  375989,\n  376332,\n  377073,\n  377277,\n  377364,\n  377367,\n  378100,\n  379518,\n  379743,\n  379901,\n  380611,\n  380929,\n  381519,\n  382159,\n  382890,\n  383568,\n  383746,\n  383939,\n  384619,\n  384678,\n  384806,\n  384938,\n  385201,\n  385633,\n  386110,\n  386249,\n  386394,\n  387028,\n  388173,\n  388318,\n  388690,\n  388780,\n  388938,\n  389949,\n  390862,\n  391058,\n  391431,\n  391705,\n  391712,\n  392062,\n  392365,\n  393624,\n  394217,\n  394229,\n  394317,\n  394573,\n  394629,\n  395745,\n  395993,\n  397483,\n  397855,\n  398794,\n  399140,\n  399184,\n  399554,\n  400316,\n  400896,\n  400910,\n  401720,\n  402274,\n  402330,\n  404230,\n  404519,\n  405280,\n  405334,\n  406057,\n  406127,\n  406240,\n  407106,\n  407782,\n  408454,\n  408502,\n  408586,\n  409275,\n  409620,\n  410154,\n  410850,\n  411523,\n  411676,\n  411755,\n  411928,\n  412843,\n  413713,\n  413757,\n  413784,\n  414033,\n  414810,\n  415286,\n  415822,\n  416719,\n  417357,\n  417419,\n  417879,\n  418357,\n  419144,\n  419465,\n  419924,\n  420282,\n  420631,\n  420725,\n  420786,\n  420853,\n  421379,\n  421472,\n  421917,\n  422611,\n  422981,\n  423196,\n  423464,\n  424727,\n  425686,\n  425918,\n  426983,\n  428064,\n  429019,\n  429078,\n  429377,\n  430169,\n  430214,\n  432090,\n  432289,\n  432646,\n  433469,\n  434078,\n  435981,\n  436475,\n  438089,\n  438148,\n  438367,\n  438409,\n  438947,\n  439411,\n  439886,\n  440346,\n  441193,\n  441434,\n  441584,\n  442468,\n  443093,\n  443691,\n  444265,\n  444564,\n  445194,\n  445233,\n  445542,\n  446009,\n  446012,\n  446179,\n  446491,\n  446579,\n  447263,\n  447716,\n  448624,\n  449510,\n  449672,\n  450171,\n  452868,\n  453791,\n  454694,\n  454740,\n  455448,\n  456115,\n  456626,\n  456660,\n  456987,\n  457737,\n  459118,\n  459498,\n  459625,\n  460014,\n  460567,\n  461947,\n  463279,\n  464972,\n  465385,\n  465834,\n  466006,\n  467348,\n  467492,\n  467557,\n  468337,\n  468569,\n  469596,\n  470145,\n  470461,\n  470520,\n  471829,\n  472108,\n  472550,\n  473093,\n  473498,\n  474028,\n  474234,\n  475357,\n  475447,\n  475837,\n  475986,\n  476054,\n  476913,\n  477155,\n  477676,\n  477837,\n  478533,\n  478795,\n  479037,\n  479775,\n  480135,\n  480369,\n  480547,\n  480744,\n  480919,\n  481254,\n  481525,\n  481558,\n  482160,\n  482919,\n  484017,\n  484154,\n  484907,\n  485500,\n  486204,\n  486218,\n  487000,\n  488789,\n  489165,\n  489428,\n  491686,\n  491774,\n  493262,\n  493905,\n  493998,\n  494614,\n  496132,\n  497756,\n  497757,\n  497963,\n  498299,\n  498944,\n  499361,\n  499871,\n  500243,\n  500259,\n  500300,\n  500984,\n  501430,\n  501440,\n  501947,\n  502049,\n  502085,\n  502153,\n  503536,\n  503820,\n  504980,\n  505052,\n  505489,\n  505545,\n  506036,\n  506422,\n  506623,\n  507284,\n  508221,\n  508476,\n  508990,\n  510744,\n  511000,\n  511152,\n  511817,\n  512204,\n  512403,\n  512769,\n  513062,\n  513107,\n  513266,\n  513738,\n  514159,\n  514543,\n  514809,\n  514871,\n  515388,\n  515485,\n  515620,\n  516448,\n  516589,\n  516855,\n  517376,\n  518901,\n  520749,\n  520869,\n  521274,\n  521554,\n  522084,\n  522332,\n  523293,\n  524393,\n  524746,\n  524769,\n  524833,\n  524986,\n  524994,\n  525318,\n  525511,\n  526074,\n  526677,\n  527924,\n  528423,\n  528674,\n  529011,\n  529056,\n  530343,\n  530416,\n  531832,\n  532148,\n  533227,\n  533570,\n  533638,\n  533701,\n  534242,\n  534321,\n  534340,\n  534558,\n  534607,\n  535451,\n  536565,\n  537513,\n  537931,\n  538249,\n  539619,\n  539957,\n  540577,\n  543256,\n  543571,\n  544013,\n  545123,\n  545295,\n  545459,\n  545900,\n  546596,\n  546956,\n  547387,\n  547779,\n  548254,\n  ...]]"
     },
     "execution_count": 42,
     "metadata": {},
     "output_type": "execute_result"
    }
   ],
   "source": [
    "lst"
   ],
   "metadata": {
    "collapsed": false,
    "ExecuteTime": {
     "end_time": "2023-10-19T20:09:50.324879300Z",
     "start_time": "2023-10-19T20:09:50.168341400Z"
    }
   },
   "id": "f8ca785e45e96054"
  },
  {
   "cell_type": "code",
   "execution_count": null,
   "outputs": [],
   "source": [],
   "metadata": {
    "collapsed": false
   },
   "id": "79b63d45e5839d1b"
  },
  {
   "cell_type": "code",
   "execution_count": 45,
   "outputs": [
    {
     "name": "stdout",
     "output_type": "stream",
     "text": [
      "Successfully wrote 3062 items to output.txt\n"
     ]
    }
   ],
   "source": [
    "write_list_to_text_file(\"output.txt\",lst[0])"
   ],
   "metadata": {
    "collapsed": false,
    "ExecuteTime": {
     "end_time": "2023-10-19T20:10:20.317509200Z",
     "start_time": "2023-10-19T20:10:20.254441600Z"
    }
   },
   "id": "e42b790462d48d1f"
  },
  {
   "cell_type": "code",
   "execution_count": 48,
   "outputs": [],
   "source": [
    "\n",
    "# Path to the directory containing the txt files\n",
    "source_directory = \"../training-data/output\"\n",
    "# Path to the destination file\n",
    "destination_file_path = './solution.txt'\n",
    "\n",
    "# List all files in the source directory\n",
    "files = os.listdir(source_directory)\n",
    "\n",
    "# Filter to keep only .txt files\n",
    "txt_files = [f for f in files if f.endswith('.txt')]\n",
    "\n",
    "# Open the destination file\n",
    "with open(destination_file_path, 'a') as dest_file:\n",
    "    for txt_file in txt_files:\n",
    "        # Construct the full path\n",
    "        file_path = os.path.join(source_directory, txt_file)\n",
    "        \n",
    "        # Open the source file and append its content to the destination file\n",
    "        with open(file_path, 'r') as source_file:\n",
    "            content = source_file.read()\n",
    "            dest_file.write(content + '\\n')  # Add a newline for separation\n"
   ],
   "metadata": {
    "collapsed": false,
    "ExecuteTime": {
     "end_time": "2023-10-19T20:17:26.332942600Z",
     "start_time": "2023-10-19T20:17:26.207488900Z"
    }
   },
   "id": "f90eda1aaea7202d"
  },
  {
   "cell_type": "markdown",
   "source": [],
   "metadata": {
    "collapsed": false
   },
   "id": "d9534c861aba86dc"
  },
  {
   "cell_type": "code",
   "execution_count": null,
   "outputs": [],
   "source": [],
   "metadata": {
    "collapsed": false
   },
   "id": "1a541c7a0010f8ab"
  }
 ],
 "metadata": {
  "kernelspec": {
   "display_name": "Python 3",
   "language": "python",
   "name": "python3"
  },
  "language_info": {
   "codemirror_mode": {
    "name": "ipython",
    "version": 3
   },
   "file_extension": ".py",
   "mimetype": "text/x-python",
   "name": "python",
   "nbconvert_exporter": "python",
   "pygments_lexer": "ipython3",
   "version": "3.8.8"
  }
 },
 "nbformat": 4,
 "nbformat_minor": 5
}
